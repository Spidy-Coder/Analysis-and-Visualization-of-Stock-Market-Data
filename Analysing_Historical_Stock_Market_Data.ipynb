{
  "nbformat": 4,
  "nbformat_minor": 0,
  "metadata": {
    "colab": {
      "name": "Analysing Historical Stock Market Data",
      "provenance": [],
      "collapsed_sections": [],
      "authorship_tag": "ABX9TyMWAkpDD5UZ82DLgQKgjOk8",
      "include_colab_link": true
    },
    "kernelspec": {
      "name": "python3",
      "display_name": "Python 3"
    }
  },
  "cells": [
    {
      "cell_type": "markdown",
      "metadata": {
        "id": "view-in-github",
        "colab_type": "text"
      },
      "source": [
        "<a href=\"https://colab.research.google.com/github/Spidy-Coder/Analysis-and-Visualization-of-Stock-Market-Data/blob/master/Analysing_Historical_Stock_Market_Data.ipynb\" target=\"_parent\"><img src=\"https://colab.research.google.com/assets/colab-badge.svg\" alt=\"Open In Colab\"/></a>"
      ]
    },
    {
      "cell_type": "code",
      "metadata": {
        "id": "kSTvUYjO-KG_",
        "colab_type": "code",
        "colab": {}
      },
      "source": [
        "import numpy as np\n",
        "import pandas as pd\n",
        "import matplotlib.pyplot as plt"
      ],
      "execution_count": 1,
      "outputs": []
    },
    {
      "cell_type": "code",
      "metadata": {
        "id": "3ogXzVDv-r_j",
        "colab_type": "code",
        "colab": {}
      },
      "source": [
        "dataset = pd.read_csv(\"HistoricalQuotes.csv\")\n",
        "x_train = dataset[\"Date\"]\n",
        "y_train = dataset[\" Close/Last\"]\n",
        "price = []"
      ],
      "execution_count": 7,
      "outputs": []
    },
    {
      "cell_type": "code",
      "metadata": {
        "id": "3weFzf6lBS3h",
        "colab_type": "code",
        "colab": {
          "base_uri": "https://localhost:8080/",
          "height": 54
        },
        "outputId": "f046bcb7-78cf-49d4-a042-757a78f8cf73"
      },
      "source": [
        "for i in y_train:\n",
        "  i = i.replace(\"$\",\"\")\n",
        "  price.append(float(i))\n",
        "print(price)"
      ],
      "execution_count": 8,
      "outputs": [
        {
          "output_type": "stream",
          "text": [
            "[459.63, 460.04, 452.04, 437.5, 450.91, 444.45, 455.61, 440.25, 438.66, 435.75, 425.04, 384.76, 380.16, 373.01, 379.24, 370.46, 371.38, 389.09, 388.0, 393.43, 385.31, 386.09, 390.9]\n"
          ],
          "name": "stdout"
        }
      ]
    },
    {
      "cell_type": "code",
      "metadata": {
        "id": "jlCfTfETBu7B",
        "colab_type": "code",
        "colab": {
          "base_uri": "https://localhost:8080/",
          "height": 34
        },
        "outputId": "5397aafa-2bdd-4e47-bea0-a92d16be6a3d"
      },
      "source": [
        "max_price = max(price)\n",
        "min_price = min(price)\n",
        "dev = (max_price - min_price) / 124\n",
        "print(dev)"
      ],
      "execution_count": 9,
      "outputs": [
        {
          "output_type": "stream",
          "text": [
            "0.72241935483871\n"
          ],
          "name": "stdout"
        }
      ]
    },
    {
      "cell_type": "code",
      "metadata": {
        "id": "KN5voaZJCmGq",
        "colab_type": "code",
        "colab": {
          "base_uri": "https://localhost:8080/",
          "height": 54
        },
        "outputId": "2cc2d016-7c9f-4e4b-8ba9-0d22f4200953"
      },
      "source": [
        "import datetime\n",
        "import time\n",
        "\n",
        "dates = []\n",
        "for i in x_train:\n",
        "  val = time.mktime(datetime.datetime.strptime(i,\"%m/%d/%Y\").timetuple())\n",
        "  dates.append(val)\n",
        "\n",
        "print(dates)"
      ],
      "execution_count": 11,
      "outputs": [
        {
          "output_type": "stream",
          "text": [
            "[1597363200.0, 1597276800.0, 1597190400.0, 1597104000.0, 1597017600.0, 1596758400.0, 1596672000.0, 1596585600.0, 1596499200.0, 1596412800.0, 1596153600.0, 1596067200.0, 1595980800.0, 1595894400.0, 1595808000.0, 1595548800.0, 1595462400.0, 1595376000.0, 1595289600.0, 1595203200.0, 1594944000.0, 1594857600.0, 1594771200.0]\n"
          ],
          "name": "stdout"
        }
      ]
    },
    {
      "cell_type": "code",
      "metadata": {
        "id": "eXWgU-SDFSOo",
        "colab_type": "code",
        "colab": {
          "base_uri": "https://localhost:8080/",
          "height": 295
        },
        "outputId": "e850caba-aeb4-4fde-e8a6-a42fce62a1f1"
      },
      "source": [
        "plt.plot(dates, price,label = \"Apple\")\n",
        "plt.xlabel(\"Dates in Time Stamp\")\n",
        "plt.ylabel(\"Stock Price\")\n",
        "plt.title(\"Stock Price Trends\")\n",
        "plt.legend()\n",
        "plt.grid()\n",
        "plt.show()"
      ],
      "execution_count": 14,
      "outputs": [
        {
          "output_type": "display_data",
          "data": {
            "image/png": "[encoded data removed]",
            "text/plain": [
              "<Figure size 432x288 with 1 Axes>"
            ]
          },
          "metadata": {
            "tags": [],
            "needs_background": "light"
          }
        }
      ]
    }
  ]
}